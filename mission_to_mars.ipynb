{
 "cells": [
  {
   "cell_type": "code",
   "execution_count": 1,
   "metadata": {},
   "outputs": [],
   "source": [
    "import selenium\n",
    "from bs4 import BeautifulSoup\n",
    "import pandas as pd\n",
    "import requests\n",
    "import pymong"
   ]
  },
  {
   "cell_type": "code",
   "execution_count": 11,
   "metadata": {},
   "outputs": [
    {
     "name": "stdout",
     "output_type": "stream",
     "text": [
      "['/news/8606/nasa-prepares-for-moon-and-mars-with-new-addition-to-its-deep-space-network/', '/news/8603/nasa-administrator-statement-on-moon-to-mars-initiative-fy-2021-budget/', '/news/8585/nasas-mars-2020-rover-closer-to-getting-its-name/', '/news/8508/nasa-invites-students-to-name-mars-2020-rover/', '/news/8442/nasas-curiosity-mars-rover-finds-a-clay-cache/', '/news/8436/why-this-martian-full-moon-looks-like-candy/']\n",
      "['\\nNASA Prepares for Moon and Mars With New Addition to Its Deep Space Network\\n', '\\nNASA Administrator Statement on Moon to Mars Initiative, FY 2021 Budget\\n', \"\\nNASA's Mars 2020 Rover Closer to Getting Its Name\\n\", '\\nNASA Invites Students to Name Mars 2020 Rover\\n', \"\\nNASA's Curiosity Mars Rover Finds a Clay Cache\\n\", '\\nWhy This Martian Full Moon Looks Like Candy\\n']\n",
      "[]\n"
     ]
    }
   ],
   "source": [
    "\n",
    "CONN = \"mongodb://localhost:27017\"\n",
    "URL = \"https://mars.nasa.gov/news/\"\n",
    "db = client.nasa_news_db\n",
    "html = requests.get(URL).text\n",
    "\n",
    "soup = BeautifulSoup(html, \"html.parser\")\n",
    "\n",
    "FILE=\"soup_html.html\"\n",
    "\n",
    "   \n",
    "news_link_list=[] \n",
    "news_title_list=[]\n",
    "news_teaser_list=[]\n",
    "with open(FILE, \"w+\", encoding=\"utf-8\") as f:\n",
    "    f.write(soup.prettify())\n",
    "for teaser in soup.find_all('div', class_='article_teaser_body'): \n",
    "    news_teaser_list.append(teaser.text)\n",
    "\n",
    "for data in soup.find_all('div', class_='content_title'):\n",
    "    for a in data.find_all('a'):\n",
    "        news_link=a.get('href')\n",
    "        news_link_list.append(news_link)\n",
    "\n",
    "        news_title_list.append(a.text) #for getting text between the link and the close anchor tag\n",
    "        \n",
    "\n",
    "\n",
    "\n",
    "print(news_link_list)\n",
    "print(news_title_list)\n",
    "print(news_teaser_list)\n",
    "\n",
    "\n",
    "    "
   ]
  },
  {
   "cell_type": "code",
   "execution_count": 3,
   "metadata": {},
   "outputs": [
    {
     "name": "stdout",
     "output_type": "stream",
     "text": [
      "https://www.jpl.nasa.gov/spaceimages/?search=&category=Mars/spaceimages/images/mediumsize/PIA17474_ip.jpg\n"
     ]
    }
   ],
   "source": [
    "\n",
    "URL = \"https://www.jpl.nasa.gov/spaceimages/?search=&category=Mars\"\n",
    "html = requests.get(URL).text\n",
    "soup = BeautifulSoup(html, \"html.parser\")\n",
    "\n",
    "for a in soup.find_all(\"a\", class_=\"button fancybox\"):\n",
    "    featured_image_url = a.get(\"data-fancybox-href\")\n",
    "    featured_image_url = \"https://www.jpl.nasa.gov/spaceimages/?search=&category=Mars\" + current_image_link\n",
    "    print(featured_image_url)\n",
    "    \n"
   ]
  },
  {
   "cell_type": "code",
   "execution_count": 14,
   "metadata": {},
   "outputs": [
    {
     "name": "stdout",
     "output_type": "stream",
     "text": [
      "InSight sol 445 (2020-02-26) low -92.8ºC (-135.0ºF) high -12.8ºC (8.9ºF)\n",
      "winds from the SSE at 5.9 m/s (13.3 mph) gusting to 21.1 m/s (47.3 mph)\n",
      "pressure at 6.30 hPa\n"
     ]
    }
   ],
   "source": [
    "URL = \"https://twitter.com/marswxreport?lang=en\"\n",
    "html = requests.get(URL).text\n",
    "FILE = \"html-selenium.txt\"\n",
    "\n",
    "soup = BeautifulSoup(html, \"html.parser\")\n",
    "\n",
    "# I wrote this to a file to examine the HTML code outside of Firefox inspector.\n",
    "with open(FILE, \"w+\", encoding=\"utf-8\") as f:\n",
    "    f.write(soup.prettify())\n",
    "\n",
    "\n",
    "    \n",
    "soup2= BeautifulSoup(html, \"html.parser\")\n",
    "\n",
    "\n",
    "    \n",
    "mars_weather=soup2.find(\"p\", class_=\"TweetTextSize TweetTextSize--normal js-tweet-text tweet-text\")\n",
    "mars_weather_text=mars_weather.text\n",
    "\n",
    "#I had to take out the pic from the text...\n",
    "sep=\"pic\"\n",
    "mars_weather = mars_weather_text.split(sep, 1)[0]\n",
    "    \n",
    "print (mars_weather)    \n"
   ]
  },
  {
   "cell_type": "code",
   "execution_count": 5,
   "metadata": {},
   "outputs": [
    {
     "name": "stdout",
     "output_type": "stream",
     "text": [
      "Mars and Earth have approximately the same landmass.Even though Mars has only 15% of the Earth’s volume and just over 10% of the Earth’s mass, around two thirds of the Earth’s surface is covered in water. Martian surface gravity is only 37% of the Earth’s (meaning you could leap nearly three times higher on Mars).\n",
      "Mars is home to the tallest mountain in the solar system.Olympus Mons, a shield volcano, is 21km high and 600km in diameter. Despite having formed over billions of years, evidence from volcanic lava flows is so recent many scientists believe it could still be active.\n",
      "Only 18 missions to Mars have been successful.As of September 2014 there have been 40 missions to Mars, including orbiters, landers and rovers but not counting flybys. The most recent arrivals include the Mars Curiosity mission in 2012, the MAVEN mission, which arrived on September 22, 2014, followed by the Indian Space Research Organization’s MOM Mangalyaan orbiter, which arrived on September 24, 2014. The next missions to arrive will be the European Space Agency’s ExoMars mission, comprising an orbiter, lander, and a rover, followed by NASA’s InSight robotic lander mission, slated for launch in March 2016 and a planned arrival in September, 2016.\n",
      "Mars has the largest dust storms in the solar system.They can last for months and cover the entire planet. The seasons are extreme because its elliptical (oval-shaped) orbital path around the Sun is more elongated than most other planets in the solar system.\n",
      "On Mars the Sun appears about half the size as it does on Earth.At the closest point to the Sun, the Martian southern hemisphere leans towards the Sun, causing a short, intensely hot summer, while the northern hemisphere endures a brief, cold winter: at its farthest point from the Sun, the Martian northern hemisphere leans towards the Sun, causing a long, mild summer, while the southern hemisphere endures a lengthy, cold winter.\n",
      "Pieces of Mars have fallen to Earth.Scientists have found tiny traces of Martian atmosphere within meteorites violently ejected from Mars, then orbiting the solar system amongst galactic debris for millions of years, before crash landing on Earth. This allowed scientists to begin studying Mars prior to launching space missions.\n",
      "Mars takes its name from the Roman god of war.The ancient Greeks called the planet Ares, after their god of war; the Romans then did likewise, associating the planet’s blood-red colour with Mars, their own god of war. Interestingly, other ancient cultures also focused on colour – to China’s astronomers it was ‘the fire star’, whilst Egyptian priests called on ‘Her Desher’, or ‘the red one’. The red colour Mars is known for is due to the rock and dust covering its surface being rich in iron.\n",
      "There are signs of liquid water on Mars.For years Mars has been known to have water in the form of ice. The first signs of trickling water are dark stripes or stains on crater wall and cliffs seen in satellite images. Due to Mars’ atmosphere this water would have to be salty to prevent it from freezing or vaporising.\n",
      "One day Mars will have a ring.In the next 20-40 million years Mars’ largest moon Phobos will be torn apart by gravitational forces leading to the creation of a ring that could last up to 100 million years.\n"
     ]
    }
   ],
   "source": [
    "URL = \"http://space-facts.com/mars/\"\n",
    "html = requests.get(URL).text\n",
    "soup = BeautifulSoup(html, \"html.parser\")\n",
    "\n",
    "fact_divs = soup.find_all('div', id=\"facts\")\n",
    "\n",
    "for li in fact_divs:\n",
    "    for this_list_item in li.find_all('li'):\n",
    "        print(this_list_item.text)\n",
    "        \n",
    "\n"
   ]
  },
  {
   "cell_type": "code",
   "execution_count": 6,
   "metadata": {},
   "outputs": [
    {
     "name": "stdout",
     "output_type": "stream",
     "text": [
      "Cerberus Hemisphere Enhanced\n",
      "https://astrogeology.usgs.gov/search/results?q=hemisphere+enhanced&k1=target&v1=Mars/search/map/Mars/Viking/cerberus_enhanced\n",
      "Schiaparelli Hemisphere Enhanced\n",
      "https://astrogeology.usgs.gov/search/results?q=hemisphere+enhanced&k1=target&v1=Mars/search/map/Mars/Viking/schiaparelli_enhanced\n",
      "Syrtis Major Hemisphere Enhanced\n",
      "https://astrogeology.usgs.gov/search/results?q=hemisphere+enhanced&k1=target&v1=Mars/search/map/Mars/Viking/syrtis_major_enhanced\n",
      "Valles Marineris Hemisphere Enhanced\n",
      "https://astrogeology.usgs.gov/search/results?q=hemisphere+enhanced&k1=target&v1=Mars/search/map/Mars/Viking/valles_marineris_enhanced\n"
     ]
    }
   ],
   "source": [
    "URL = \"https://astrogeology.usgs.gov/search/results?q=hemisphere+enhanced&k1=target&v1=Mars\"\n",
    "html = requests.get(URL).text\n",
    "soup = BeautifulSoup(html, \"html.parser\")\n",
    "\n",
    "\n",
    "for a in soup.find_all('a', class_=\"itemLink product-item\"):\n",
    "    print(a.text)\n",
    "    the_link=URL+a.get(\"href\")\n",
    "    print(the_link)\n"
   ]
  },
  {
   "cell_type": "code",
   "execution_count": null,
   "metadata": {},
   "outputs": [],
   "source": []
  },
  {
   "cell_type": "code",
   "execution_count": null,
   "metadata": {},
   "outputs": [],
   "source": []
  }
 ],
 "metadata": {
  "kernelspec": {
   "display_name": "scaper12",
   "language": "python",
   "name": "scraper12"
  },
  "language_info": {
   "codemirror_mode": {
    "name": "ipython",
    "version": 3
   },
   "file_extension": ".py",
   "mimetype": "text/x-python",
   "name": "python",
   "nbconvert_exporter": "python",
   "pygments_lexer": "ipython3",
   "version": "3.7.4"
  }
 },
 "nbformat": 4,
 "nbformat_minor": 4
}
